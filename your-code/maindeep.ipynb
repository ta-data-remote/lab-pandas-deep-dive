{
 "cells": [
  {
   "cell_type": "markdown",
   "metadata": {},
   "source": [
    "# Pandas Deep-Dive\n",
    "\n",
    "#### 1. Import Pandas package under the alias pd and Numpy under the alias np."
   ]
  },
  {
   "cell_type": "code",
   "execution_count": 56,
   "metadata": {},
   "outputs": [],
   "source": [
    "# your code here\n",
    "import pandas as pd\n",
    "import numpy as np\n"
   ]
  },
  {
   "cell_type": "markdown",
   "metadata": {},
   "source": [
    "#### 2. Define a variable called `path` that contains the path to the csv file you downloaded. If you are reading the data from Ironhack's database, define the variables needed to create the connection with the database. "
   ]
  },
  {
   "cell_type": "code",
   "execution_count": 57,
   "metadata": {},
   "outputs": [],
   "source": [
    "# your code here\n",
    "path = pd.read_csv('C:/Users/User/Documents/Github/lab-pandas-deep-dive/data/apple_store.csv')\n"
   ]
  },
  {
   "cell_type": "markdown",
   "metadata": {},
   "source": [
    "#### 3. Using the pandas, read the data either from the downladed file or the database. \n",
    "\n",
    "Assign the returned value to a variable called `data`."
   ]
  },
  {
   "cell_type": "code",
   "execution_count": 58,
   "metadata": {},
   "outputs": [],
   "source": [
    "# your code here\n",
    "\n",
    "data = pd.DataFrame(path)"
   ]
  },
  {
   "cell_type": "markdown",
   "metadata": {},
   "source": [
    "#### 4. Print the first 5 rows of `data` to see what the data look like.\n",
    "\n",
    "A data analyst usually does this to have a general understanding about what the data look like before digging deep."
   ]
  },
  {
   "cell_type": "code",
   "execution_count": 59,
   "metadata": {},
   "outputs": [
    {
     "name": "stdout",
     "output_type": "stream",
     "text": [
      "          id                                         track_name  size_bytes  \\\n",
      "0  281656475                                    PAC-MAN Premium   100788224   \n",
      "1  281796108                          Evernote - stay organized   158578688   \n",
      "2  281940292    WeatherBug - Local Weather, Radar, Maps, Alerts   100524032   \n",
      "3  282614216  eBay: Best App to Buy, Sell, Save! Online Shop...   128512000   \n",
      "4  282935706                                              Bible    92774400   \n",
      "\n",
      "   price  rating_count_tot  rating_count_ver  user_rating  user_rating_ver  \\\n",
      "0   3.99             21292                26          4.0              4.5   \n",
      "1   0.00            161065                26          4.0              3.5   \n",
      "2   0.00            188583              2822          3.5              4.5   \n",
      "3   0.00            262241               649          4.0              4.5   \n",
      "4   0.00            985920              5320          4.5              5.0   \n",
      "\n",
      "    prime_genre  \n",
      "0         Games  \n",
      "1  Productivity  \n",
      "2       Weather  \n",
      "3      Shopping  \n",
      "4     Reference  \n"
     ]
    }
   ],
   "source": [
    "# your code here\n",
    "df2 = data.head(5)\n",
    "print(df2)"
   ]
  },
  {
   "cell_type": "markdown",
   "metadata": {},
   "source": [
    "#### 5. Print the summary of the data."
   ]
  },
  {
   "cell_type": "code",
   "execution_count": 60,
   "metadata": {},
   "outputs": [
    {
     "name": "stdout",
     "output_type": "stream",
     "text": [
      "                 id    size_bytes        price  rating_count_tot  \\\n",
      "count  7.197000e+03  7.197000e+03  7197.000000      7.197000e+03   \n",
      "mean   8.631310e+08  1.991345e+08     1.726218      1.289291e+04   \n",
      "std    2.712368e+08  3.592069e+08     5.833006      7.573941e+04   \n",
      "min    2.816565e+08  5.898240e+05     0.000000      0.000000e+00   \n",
      "25%    6.000937e+08  4.692275e+07     0.000000      2.800000e+01   \n",
      "50%    9.781482e+08  9.715302e+07     0.000000      3.000000e+02   \n",
      "75%    1.082310e+09  1.819249e+08     1.990000      2.793000e+03   \n",
      "max    1.188376e+09  4.025970e+09   299.990000      2.974676e+06   \n",
      "\n",
      "       rating_count_ver  user_rating  user_rating_ver  \n",
      "count       7197.000000  7197.000000      7197.000000  \n",
      "mean         460.373906     3.526956         3.253578  \n",
      "std         3920.455183     1.517948         1.809363  \n",
      "min            0.000000     0.000000         0.000000  \n",
      "25%            1.000000     3.500000         2.500000  \n",
      "50%           23.000000     4.000000         4.000000  \n",
      "75%          140.000000     4.500000         4.500000  \n",
      "max       177050.000000     5.000000         5.000000  \n"
     ]
    }
   ],
   "source": [
    "print(data.describe())"
   ]
  },
  {
   "cell_type": "markdown",
   "metadata": {},
   "source": [
    "#### 6. Print the number of columns in the data."
   ]
  },
  {
   "cell_type": "code",
   "execution_count": 61,
   "metadata": {},
   "outputs": [
    {
     "data": {
      "text/plain": [
       "9"
      ]
     },
     "execution_count": 61,
     "metadata": {},
     "output_type": "execute_result"
    }
   ],
   "source": [
    "len(data.columns)"
   ]
  },
  {
   "cell_type": "markdown",
   "metadata": {},
   "source": [
    "#### 7. Print all column names."
   ]
  },
  {
   "cell_type": "code",
   "execution_count": 62,
   "metadata": {},
   "outputs": [
    {
     "data": {
      "text/html": [
       "<div>\n",
       "<style scoped>\n",
       "    .dataframe tbody tr th:only-of-type {\n",
       "        vertical-align: middle;\n",
       "    }\n",
       "\n",
       "    .dataframe tbody tr th {\n",
       "        vertical-align: top;\n",
       "    }\n",
       "\n",
       "    .dataframe thead th {\n",
       "        text-align: right;\n",
       "    }\n",
       "</style>\n",
       "<table border=\"1\" class=\"dataframe\">\n",
       "  <thead>\n",
       "    <tr style=\"text-align: right;\">\n",
       "      <th></th>\n",
       "      <th>id</th>\n",
       "      <th>track_name</th>\n",
       "      <th>size_bytes</th>\n",
       "      <th>price</th>\n",
       "      <th>rating_count_tot</th>\n",
       "      <th>rating_count_ver</th>\n",
       "      <th>user_rating</th>\n",
       "      <th>user_rating_ver</th>\n",
       "      <th>prime_genre</th>\n",
       "    </tr>\n",
       "  </thead>\n",
       "  <tbody>\n",
       "    <tr>\n",
       "      <th>0</th>\n",
       "      <td>281656475</td>\n",
       "      <td>PAC-MAN Premium</td>\n",
       "      <td>100788224</td>\n",
       "      <td>3.99</td>\n",
       "      <td>21292</td>\n",
       "      <td>26</td>\n",
       "      <td>4.0</td>\n",
       "      <td>4.5</td>\n",
       "      <td>Games</td>\n",
       "    </tr>\n",
       "    <tr>\n",
       "      <th>1</th>\n",
       "      <td>281796108</td>\n",
       "      <td>Evernote - stay organized</td>\n",
       "      <td>158578688</td>\n",
       "      <td>0.00</td>\n",
       "      <td>161065</td>\n",
       "      <td>26</td>\n",
       "      <td>4.0</td>\n",
       "      <td>3.5</td>\n",
       "      <td>Productivity</td>\n",
       "    </tr>\n",
       "    <tr>\n",
       "      <th>2</th>\n",
       "      <td>281940292</td>\n",
       "      <td>WeatherBug - Local Weather, Radar, Maps, Alerts</td>\n",
       "      <td>100524032</td>\n",
       "      <td>0.00</td>\n",
       "      <td>188583</td>\n",
       "      <td>2822</td>\n",
       "      <td>3.5</td>\n",
       "      <td>4.5</td>\n",
       "      <td>Weather</td>\n",
       "    </tr>\n",
       "    <tr>\n",
       "      <th>3</th>\n",
       "      <td>282614216</td>\n",
       "      <td>eBay: Best App to Buy, Sell, Save! Online Shop...</td>\n",
       "      <td>128512000</td>\n",
       "      <td>0.00</td>\n",
       "      <td>262241</td>\n",
       "      <td>649</td>\n",
       "      <td>4.0</td>\n",
       "      <td>4.5</td>\n",
       "      <td>Shopping</td>\n",
       "    </tr>\n",
       "    <tr>\n",
       "      <th>4</th>\n",
       "      <td>282935706</td>\n",
       "      <td>Bible</td>\n",
       "      <td>92774400</td>\n",
       "      <td>0.00</td>\n",
       "      <td>985920</td>\n",
       "      <td>5320</td>\n",
       "      <td>4.5</td>\n",
       "      <td>5.0</td>\n",
       "      <td>Reference</td>\n",
       "    </tr>\n",
       "  </tbody>\n",
       "</table>\n",
       "</div>"
      ],
      "text/plain": [
       "          id                                         track_name  size_bytes  \\\n",
       "0  281656475                                    PAC-MAN Premium   100788224   \n",
       "1  281796108                          Evernote - stay organized   158578688   \n",
       "2  281940292    WeatherBug - Local Weather, Radar, Maps, Alerts   100524032   \n",
       "3  282614216  eBay: Best App to Buy, Sell, Save! Online Shop...   128512000   \n",
       "4  282935706                                              Bible    92774400   \n",
       "\n",
       "   price  rating_count_tot  rating_count_ver  user_rating  user_rating_ver  \\\n",
       "0   3.99             21292                26          4.0              4.5   \n",
       "1   0.00            161065                26          4.0              3.5   \n",
       "2   0.00            188583              2822          3.5              4.5   \n",
       "3   0.00            262241               649          4.0              4.5   \n",
       "4   0.00            985920              5320          4.5              5.0   \n",
       "\n",
       "    prime_genre  \n",
       "0         Games  \n",
       "1  Productivity  \n",
       "2       Weather  \n",
       "3      Shopping  \n",
       "4     Reference  "
      ]
     },
     "execution_count": 62,
     "metadata": {},
     "output_type": "execute_result"
    }
   ],
   "source": [
    "# your code here\n",
    "data.head() "
   ]
  },
  {
   "cell_type": "markdown",
   "metadata": {},
   "source": [
    "#### 8.- Now that we have a general understanding of the data, we'll start working on the challenge questions. How many apps are there in the data source? Print the number of observations of the data.\n",
    "\n",
    "**Hint**: Your code should return the number 7197."
   ]
  },
  {
   "cell_type": "code",
   "execution_count": 63,
   "metadata": {},
   "outputs": [
    {
     "data": {
      "text/plain": [
       "7197"
      ]
     },
     "execution_count": 63,
     "metadata": {},
     "output_type": "execute_result"
    }
   ],
   "source": [
    "# your code here\n",
    "data['id'].nunique()"
   ]
  },
  {
   "cell_type": "markdown",
   "metadata": {},
   "source": [
    "#### 9. What is the average rating of all apps? \n",
    "\n",
    "First, read the `user_rating` column into a varialbe named `user_rating`."
   ]
  },
  {
   "cell_type": "code",
   "execution_count": 64,
   "metadata": {},
   "outputs": [],
   "source": [
    "# your code here\n",
    "user_rating = data['user_rating']"
   ]
  },
  {
   "cell_type": "markdown",
   "metadata": {},
   "source": [
    "Now you can calculate the average of the `user_rating` data.\n",
    "\n",
    "**Hint**: Your code should return 3.526955675976101."
   ]
  },
  {
   "cell_type": "code",
   "execution_count": 65,
   "metadata": {},
   "outputs": [
    {
     "data": {
      "text/plain": [
       "3.526955675976101"
      ]
     },
     "execution_count": 65,
     "metadata": {},
     "output_type": "execute_result"
    }
   ],
   "source": [
    "# your code here\n",
    "user_rating.mean()\n"
   ]
  },
  {
   "cell_type": "markdown",
   "metadata": {},
   "source": [
    "#### 10. How many apps have an average rating no less than 4?\n",
    "\n",
    "First, filter `user_rating` where its value >= 4. \n",
    "\n",
    "Assign the filtered dataframe to a new variable called `user_rating_high`."
   ]
  },
  {
   "cell_type": "code",
   "execution_count": 66,
   "metadata": {},
   "outputs": [],
   "source": [
    "# your code here\n",
    "user_rating_high = user_rating.loc[user_rating >= 4]"
   ]
  },
  {
   "cell_type": "markdown",
   "metadata": {},
   "source": [
    "Now obtain the length of `user_rating_high` which should return 4781."
   ]
  },
  {
   "cell_type": "code",
   "execution_count": 67,
   "metadata": {},
   "outputs": [
    {
     "data": {
      "text/plain": [
       "4781"
      ]
     },
     "execution_count": 67,
     "metadata": {},
     "output_type": "execute_result"
    }
   ],
   "source": [
    "# your code here\n",
    "\n",
    "len(user_rating_high)"
   ]
  },
  {
   "cell_type": "markdown",
   "metadata": {},
   "source": [
    "#### 11. How many genres are there in total for all the apps?\n",
    "\n",
    "Define a new variable named `genres` that contains the `prime_genre` column of `data`. Google for how to obtain unique values of a dataframe column. "
   ]
  },
  {
   "cell_type": "code",
   "execution_count": 68,
   "metadata": {},
   "outputs": [
    {
     "name": "stdout",
     "output_type": "stream",
     "text": [
      "['Games' 'Productivity' 'Weather' 'Shopping' 'Reference' 'Finance' 'Music'\n",
      " 'Utilities' 'Travel' 'Social Networking' 'Sports' 'Business'\n",
      " 'Health & Fitness' 'Entertainment' 'Photo & Video' 'Navigation'\n",
      " 'Education' 'Lifestyle' 'Food & Drink' 'News' 'Book' 'Medical' 'Catalogs']\n"
     ]
    }
   ],
   "source": [
    "# your code here\n",
    "genres = data['prime_genre'].unique()\n",
    "print(genres)"
   ]
  },
  {
   "cell_type": "markdown",
   "metadata": {},
   "source": [
    "Print the length of the unique values of `genres`. Your code should return 23."
   ]
  },
  {
   "cell_type": "code",
   "execution_count": 69,
   "metadata": {},
   "outputs": [
    {
     "data": {
      "text/plain": [
       "23"
      ]
     },
     "execution_count": 69,
     "metadata": {},
     "output_type": "execute_result"
    }
   ],
   "source": [
    "# your code here\n",
    "len(genres)"
   ]
  },
  {
   "cell_type": "markdown",
   "metadata": {},
   "source": [
    "#### 12. What are the top 3 genres that have the most number of apps?\n",
    "\n",
    "What you want to do is to count the number of occurrences of each unique genre values. Because you already know how to obtain the unique genre values, you can of course count the # of apps of each genre one by one. However, Pandas has a convient function to let you count all values of a dataframe column with a single command. Google for \"pandas count values\" to find the solution. Your code should return the following:\n",
    "\n",
    "```\n",
    "Games            3862\n",
    "Entertainment     535\n",
    "Education         453\n",
    "Name: prime_genre, dtype: int64\n",
    "```"
   ]
  },
  {
   "cell_type": "code",
   "execution_count": 70,
   "metadata": {},
   "outputs": [
    {
     "name": "stdout",
     "output_type": "stream",
     "text": [
      "Games                3862\n",
      "Entertainment         535\n",
      "Education             453\n",
      "Photo & Video         349\n",
      "Utilities             248\n",
      "Health & Fitness      180\n",
      "Productivity          178\n",
      "Social Networking     167\n",
      "Lifestyle             144\n",
      "Music                 138\n",
      "Shopping              122\n",
      "Sports                114\n",
      "Book                  112\n",
      "Finance               104\n",
      "Travel                 81\n",
      "News                   75\n",
      "Weather                72\n",
      "Reference              64\n",
      "Food & Drink           63\n",
      "Business               57\n",
      "Navigation             46\n",
      "Medical                23\n",
      "Catalogs               10\n",
      "Name: prime_genre, dtype: int64\n"
     ]
    }
   ],
   "source": [
    "# your code here\n",
    "item_counts = data['prime_genre'].value_counts()\n",
    "print (item_counts)"
   ]
  },
  {
   "cell_type": "markdown",
   "metadata": {},
   "source": [
    "#### 13. Which genre is most likely to contain free apps?\n",
    "\n",
    "First, filter `data` where the price is 0.00. Assign the filtered data to a new variable called `free_apps`. Then count the values in `free_apps`. Your code should return:\n",
    "\n",
    "```\n",
    "Games                2257\n",
    "Entertainment         334\n",
    "Photo & Video         167\n",
    "Social Networking     143\n",
    "Education             132\n",
    "Shopping              121\n",
    "Utilities             109\n",
    "Lifestyle              94\n",
    "Finance                84\n",
    "Sports                 79\n",
    "Health & Fitness       76\n",
    "Music                  67\n",
    "Book                   66\n",
    "Productivity           62\n",
    "News                   58\n",
    "Travel                 56\n",
    "Food & Drink           43\n",
    "Weather                31\n",
    "Navigation             20\n",
    "Reference              20\n",
    "Business               20\n",
    "Catalogs                9\n",
    "Medical                 8\n",
    "Name: prime_genre, dtype: int64\n",
    "```"
   ]
  },
  {
   "cell_type": "code",
   "execution_count": 77,
   "metadata": {},
   "outputs": [
    {
     "data": {
      "text/plain": [
       "Games                2257\n",
       "Entertainment         334\n",
       "Photo & Video         167\n",
       "Social Networking     143\n",
       "Education             132\n",
       "Shopping              121\n",
       "Utilities             109\n",
       "Lifestyle              94\n",
       "Finance                84\n",
       "Sports                 79\n",
       "Health & Fitness       76\n",
       "Music                  67\n",
       "Book                   66\n",
       "Productivity           62\n",
       "News                   58\n",
       "Travel                 56\n",
       "Food & Drink           43\n",
       "Weather                31\n",
       "Navigation             20\n",
       "Business               20\n",
       "Reference              20\n",
       "Catalogs                9\n",
       "Medical                 8\n",
       "Name: prime_genre, dtype: int64"
      ]
     },
     "execution_count": 77,
     "metadata": {},
     "output_type": "execute_result"
    }
   ],
   "source": [
    "# your code here\n",
    "free_apps = data[data['price'] == 0.00]\n",
    "\n",
    "\n",
    "new = free_apps['prime_genre'].value_counts()\n",
    "\n",
    "new\n"
   ]
  },
  {
   "cell_type": "markdown",
   "metadata": {},
   "source": [
    "#### 14. Now you can calculate the proportion of the free apps in each genre based on the value counts you obtained in the previous two steps. \n",
    "\n",
    "Challenge yourself by achieving that with one line of code. The output should look like:\n",
    "\n",
    "```\n",
    "Shopping             0.991803\n",
    "Catalogs             0.900000\n",
    "Social Networking    0.856287\n",
    "Finance              0.807692\n",
    "News                 0.773333\n",
    "Sports               0.692982\n",
    "Travel               0.691358\n",
    "Food & Drink         0.682540\n",
    "Lifestyle            0.652778\n",
    "Entertainment        0.624299\n",
    "Book                 0.589286\n",
    "Games                0.584412\n",
    "Music                0.485507\n",
    "Photo & Video        0.478510\n",
    "Utilities            0.439516\n",
    "Navigation           0.434783\n",
    "Weather              0.430556\n",
    "Health & Fitness     0.422222\n",
    "Business             0.350877\n",
    "Productivity         0.348315\n",
    "Medical              0.347826\n",
    "Reference            0.312500\n",
    "Education            0.291391\n",
    "Name: prime_genre, dtype: float64\n",
    "```\n",
    "\n",
    "The numbers are interesting, aren't they?"
   ]
  },
  {
   "cell_type": "code",
   "execution_count": 85,
   "metadata": {},
   "outputs": [
    {
     "name": "stdout",
     "output_type": "stream",
     "text": [
      "          prime_genre      mean\n",
      "0                Book  1.790536\n",
      "1            Business  5.116316\n",
      "2            Catalogs  0.799000\n",
      "3           Education  4.028234\n",
      "4       Entertainment  0.889701\n",
      "5             Finance  0.421154\n",
      "6        Food & Drink  1.552381\n",
      "7               Games  1.432923\n",
      "8    Health & Fitness  1.916444\n",
      "9           Lifestyle  0.885417\n",
      "10            Medical  8.776087\n",
      "11              Music  4.835435\n",
      "12         Navigation  4.124783\n",
      "13               News  0.517733\n",
      "14      Photo & Video  1.473295\n",
      "15       Productivity  4.330562\n",
      "16          Reference  4.836875\n",
      "17           Shopping  0.016311\n",
      "18  Social Networking  0.339880\n",
      "19             Sports  0.953070\n",
      "20             Travel  1.120370\n",
      "21          Utilities  1.647621\n",
      "22            Weather  1.605417\n"
     ]
    }
   ],
   "source": [
    "# your code here\n",
    "df1 = data.groupby('prime_genre')['price'].agg(['mean']).reset_index()\n",
    "\n",
    "\n",
    "print(df1)"
   ]
  },
  {
   "cell_type": "markdown",
   "metadata": {},
   "source": [
    "#### 15. If a developer tries to make money by developing and selling Apple Store apps, in which genre should s/he develop the apps? Please assume all apps cost the same amount of time and expense to develop.\n",
    "\n",
    "We will leave this question to you. There are several way to solve it. Ideally your output should look like below:\n",
    "\n",
    "```\n",
    "    average_price              genre\n",
    "21       8.776087            Medical\n",
    "11       5.116316           Business\n",
    "4        4.836875          Reference\n",
    "6        4.835435              Music\n",
    "1        4.330562       Productivity\n",
    "15       4.124783         Navigation\n",
    "16       4.028234          Education\n",
    "12       1.916444   Health & Fitness\n",
    "20       1.790536               Book\n",
    "7        1.647621          Utilities\n",
    "2        1.605417            Weather\n",
    "18       1.552381       Food & Drink\n",
    "14       1.473295      Photo & Video\n",
    "0        1.432923              Games\n",
    "8        1.120370             Travel\n",
    "10       0.953070             Sports\n",
    "13       0.889701      Entertainment\n",
    "17       0.885417          Lifestyle\n",
    "22       0.799000           Catalogs\n",
    "19       0.517733               News\n",
    "5        0.421154            Finance\n",
    "9        0.339880  Social Networking\n",
    "3        0.016311           Shopping\n",
    "```"
   ]
  },
  {
   "cell_type": "code",
   "execution_count": 90,
   "metadata": {},
   "outputs": [
    {
     "name": "stdout",
     "output_type": "stream",
     "text": [
      "                             id    size_bytes     price  rating_count_tot  \\\n",
      "prime_genre                                                                 \n",
      "Medical            7.458997e+08  3.763890e+08  8.776087        592.782609   \n",
      "Business           6.934696e+08  6.416849e+07  5.116316       4788.087719   \n",
      "Reference          7.231377e+08  1.551627e+08  4.836875      22410.843750   \n",
      "Music              7.566649e+08  1.096356e+08  4.835435      28842.021739   \n",
      "Productivity       7.366445e+08  7.844064e+07  4.330562       8051.325843   \n",
      "Navigation         6.276328e+08  1.033545e+08  4.124783      11853.956522   \n",
      "Education          8.169410e+08  1.804242e+08  4.028234       2239.229581   \n",
      "Health & Fitness   7.313714e+08  9.010664e+07  1.916444       9913.172222   \n",
      "Book               9.435737e+08  1.788206e+08  1.790536       5125.437500   \n",
      "Utilities          8.001238e+08  5.429006e+07  1.647621       6863.822581   \n",
      "Weather            6.275585e+08  6.144138e+07  1.605417      22181.027778   \n",
      "Food & Drink       7.313079e+08  7.759500e+07  1.552381      13938.619048   \n",
      "Photo & Video      7.965089e+08  6.852190e+07  1.473295      14352.280802   \n",
      "Games              9.351898e+08  2.836583e+08  1.432923      13691.996634   \n",
      "Travel             6.285153e+08  8.270691e+07  1.120370      14129.444444   \n",
      "Sports             7.403697e+08  7.887357e+07  0.953070      14026.929825   \n",
      "Entertainment      8.507593e+08  1.014787e+08  0.889701       7533.678505   \n",
      "Lifestyle          8.270774e+08  6.230647e+07  0.885417       6161.763889   \n",
      "Catalogs           9.521081e+08  5.018163e+07  0.799000       1732.500000   \n",
      "News               6.787318e+08  6.247085e+07  0.517733      13015.066667   \n",
      "Finance            7.232960e+08  7.823586e+07  0.421154      11047.653846   \n",
      "Social Networking  7.912940e+08  7.937244e+07  0.339880      45498.898204   \n",
      "Shopping           6.593491e+08  9.334683e+07  0.016311      18615.327869   \n",
      "\n",
      "                   rating_count_ver  user_rating  user_rating_ver  \n",
      "prime_genre                                                        \n",
      "Medical                   46.739130     3.369565         3.260870  \n",
      "Business                 275.456140     3.745614         3.333333  \n",
      "Reference                868.671875     3.453125         3.093750  \n",
      "Music                    344.956522     3.978261         3.811594  \n",
      "Productivity             121.073034     4.005618         3.733146  \n",
      "Navigation               110.195652     2.684783         2.152174  \n",
      "Education                239.000000     3.376380         2.952539  \n",
      "Health & Fitness         211.205556     3.700000         3.369444  \n",
      "Book                      70.714286     2.477679         2.111607  \n",
      "Utilities                755.036290     3.278226         2.862903  \n",
      "Weather                  885.875000     3.597222         3.222222  \n",
      "Food & Drink             320.603175     3.182540         2.412698  \n",
      "Photo & Video            282.830946     3.800860         3.485673  \n",
      "Games                    575.280166     3.685008         3.545184  \n",
      "Travel                   133.864198     3.376543         2.820988  \n",
      "Sports                   128.447368     2.982456         2.548246  \n",
      "Entertainment            140.893458     3.246729         2.900000  \n",
      "Lifestyle                712.111111     2.805556         2.218750  \n",
      "Catalogs                 344.600000     2.100000         2.100000  \n",
      "News                     113.720000     2.980000         2.213333  \n",
      "Finance                  250.576923     2.432692         1.634615  \n",
      "Social Networking        556.287425     2.985030         2.482036  \n",
      "Shopping                 709.008197     3.540984         2.618852  \n"
     ]
    }
   ],
   "source": [
    "# your code here\n",
    "\n",
    "avg_price = data.groupby(\"prime_genre\").mean().sort_values(by=\"price\",ascending=False)\n",
    "print(avg_price)"
   ]
  },
  {
   "cell_type": "code",
   "execution_count": null,
   "metadata": {},
   "outputs": [],
   "source": []
  }
 ],
 "metadata": {
  "kernelspec": {
   "display_name": "Python 3",
   "language": "python",
   "name": "python3"
  },
  "language_info": {
   "codemirror_mode": {
    "name": "ipython",
    "version": 3
   },
   "file_extension": ".py",
   "mimetype": "text/x-python",
   "name": "python",
   "nbconvert_exporter": "python",
   "pygments_lexer": "ipython3",
   "version": "3.8.8"
  }
 },
 "nbformat": 4,
 "nbformat_minor": 2
}
